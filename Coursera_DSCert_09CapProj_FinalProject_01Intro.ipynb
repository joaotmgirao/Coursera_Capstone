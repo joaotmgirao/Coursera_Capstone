{
    "cells": [
        {
            "cell_type": "markdown",
            "metadata": {
                "collapsed": true
            },
            "source": "# <center>IBM Data Science Professional Certificate<center>\n\n# <center>Capstone Project Report"
        },
        {
            "cell_type": "markdown",
            "metadata": {},
            "source": "# Introduction\n\n***\nDuring the last decade, house prices skyrocketed in Europe, with an increase of more than 20%, according to Eurostat. This increase has been showing different paces from country to country, being Portugal one of the countries with the highest growth, around 35% from 2009 to 2019. This increase has been motivated by several factors, among them:\n- low interest rates spiked the interest of consumers to invest in new housing;\n- low baseline prices;\n- low supply of housing;\n- foreign companies relocating to Portugal, creating more pressure both on the office and private housing market;\n- boom in tourism created new investment alternatives for house owners (e.g. short-term rental).\n\nAll this pressure is forcing population to find more affordable solutions to live in other areas that were not previously considered, whether for renting or buying a house.\n\nThe purpose of this project is to explore the characteristics of the different neighborhoods, identifying what makes them unique and find similarities to cluster them and compare their houses prices. \n\nI chose Porto Metropolitan Area, the 2nd biggest urban area in Portugal, to be the focus of this analysis. The main reasons for this choice are detailed below:\n1. The region has been experiencing a tremendous increase in housing prices and, therefore, makes a good use case for the problem identified;\n2. Porto is a mid-sized city, with around 2.659.524 inhabitants and 1.600.000 tourists visiting it annually, which makes a good candidate to have sufficient data to conduct the analysis;\n3. I have been living in the city for more than 2 years and, therefore, will be interesting to contrast the results from the analysis with my empirical knowledge of the city.\n\nDespite Porto being the object of study, the methodology used can be applied to any other city."
        },
        {
            "cell_type": "code",
            "execution_count": null,
            "metadata": {},
            "outputs": [],
            "source": ""
        }
    ],
    "metadata": {
        "kernelspec": {
            "display_name": "Python 3.6",
            "language": "python",
            "name": "python3"
        },
        "language_info": {
            "codemirror_mode": {
                "name": "ipython",
                "version": 3
            },
            "file_extension": ".py",
            "mimetype": "text/x-python",
            "name": "python",
            "nbconvert_exporter": "python",
            "pygments_lexer": "ipython3",
            "version": "3.6.9"
        }
    },
    "nbformat": 4,
    "nbformat_minor": 1
}