{
    "cells": [
        {
            "cell_type": "markdown",
            "metadata": {
                "collapsed": true
            },
            "source": "# <center>IBM Data Science Professional Certificate<center>\n\n# <center>Capstone Project Report"
        },
        {
            "cell_type": "markdown",
            "metadata": {},
            "source": "# Introduction\n\n***\nDuring the last decade, house prices skyrocketed in Europe, with an increase of more than 20%, according to Eurostat. This increase has been showing different paces from country to country, being Portugal one of the countries with the highest growth, around 35% from 2009 to 2019. This increase has been motivated by several factors, among them:\n- low interest rates spiked the interest of consumers to invest in new housing;\n- low baseline prices;\n- low supply of housing;\n- foreign companies relocating to Portugal, creating more pressure both on the office and private housing market;\n- boom in tourism created new investment alternatives for house owners (e.g. short-term rental).\n\nAll this pressure is forcing population to find more affordable solutions to live in other areas that were not previously considered, whether for renting or buying a house.\n\nThe purpose of this project is to explore the characteristics of the different neighborhoods, identifying what makes them unique and find similarities to cluster them and compare their houses prices. \n\nI chose Porto Metropolitan Area, the 2nd biggest urban area in Portugal, to be the focus of this analysis. The main reasons for this choice are detailed below:\n1. The region has been experiencing a tremendous increase in housing prices and, therefore, makes a good use case for the problem identified;\n2. Porto is a mid-sized city, with around 2.659.524 inhabitants and 1.600.000 tourists visiting it annually, which makes a good candidate to have sufficient data to conduct the analysis;\n3. I have been living in the city for more than 2 years and, therefore, will be interesting to contrast the results from the analysis with my empirical knowledge of the city.\n\nDespite Porto being the object of study, the methodology used can be applied to any other city."
        },
        {
            "cell_type": "markdown",
            "metadata": {},
            "source": "# Data\n\n***\nThe data used for this project comes from a multitude of sources, namely Foursquare, an open data repository (i.e. Porto Digital) and one of the largest repositories of apartments to buy in Portugal (Imo. Below there is a detailed description on the sources of information:\n- Venues in the metropolitan area (https://pt.foursquare.com/)\n- neighborhoods (https://dados.gov.pt/pt/datasets/freguesias-de-portugal/#_)\n- metro stations (https://opendata.urbanplatform.portodigital.pt/dataset/metro-do-porto)\n- bus stations (https://opendata.urbanplatform.portodigital.pt/dataset/informacao-publica-dos-servicos-de-transporte-colectivo-do-porto/resource/4be68555-5a0d-49d0-b62e-4e76735953a5)\n- train stations (https://pt.wikipedia.org/wiki/CP_Urbanos_do_Porto)\n- bike stations (https://opendata.urbanplatform.portodigital.pt/dataset/bicicletarios)\n- car parking (https://opendata.urbanplatform.portodigital.pt/dataset/parques-de-estacionamento-municipais)\n- bike path (https://opendata.urbanplatform.portodigital.pt/dataset/ciclovias)\n- supermarkets (https://opendata.urbanplatform.portodigital.pt/dataset/supermercados-e-hipermercados)\n- hotels (https://opendata.urbanplatform.portodigital.pt/dataset/hoteis_-aparthoteis-e-albergarias-centroides/resource/3c490f86-9fd4-4268-8db2-1f7b4832dc6f)\n- kindergartens, elementary and high schools (https://opendata.urbanplatform.portodigital.pt/dataset/estabelecimentos-de-ensino-por-ano-letivo)\n- hospitals, other medical centers and pharmacies (https://opendata.urbanplatform.portodigital.pt/dataset/equipamentos-de-saude)\n- pools (https://opendata.urbanplatform.portodigital.pt/dataset/piscinas-centroides)\n- post office (https://opendata.urbanplatform.portodigital.pt/dataset/correios-2013)\n- tourist information offices (https://opendata.urbanplatform.portodigital.pt/dataset/postos-de-informacao-turistica-centroides)\n- apartments to buy (https://www.imovirtual.com/comprar/apartamento/?search%5Bdescription%5D=1&locations%5B0%5D%5Bregion_id%5D=13&locations%5B1%5D%5Bregion_id%5D=3&locations%5B2%5D%5Bregion_id%5D=1&nrAdsPerPage=103323)"
        },
        {
            "cell_type": "code",
            "execution_count": null,
            "metadata": {},
            "outputs": [],
            "source": ""
        }
    ],
    "metadata": {
        "kernelspec": {
            "display_name": "Python 3.6",
            "language": "python",
            "name": "python3"
        },
        "language_info": {
            "codemirror_mode": {
                "name": "ipython",
                "version": 3
            },
            "file_extension": ".py",
            "mimetype": "text/x-python",
            "name": "python",
            "nbconvert_exporter": "python",
            "pygments_lexer": "ipython3",
            "version": "3.6.9"
        }
    },
    "nbformat": 4,
    "nbformat_minor": 1
}